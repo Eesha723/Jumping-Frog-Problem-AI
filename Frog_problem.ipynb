{
  "nbformat": 4,
  "nbformat_minor": 0,
  "metadata": {
    "colab": {
      "name": "Frog problem.ipynb",
      "provenance": []
    },
    "kernelspec": {
      "name": "python3",
      "display_name": "Python 3"
    },
    "language_info": {
      "name": "python"
    }
  },
  "cells": [
    {
      "cell_type": "code",
      "source": [
        "#•\t1 represents green frog\n",
        "#• -1 represents brown frog\n",
        "#•  0 represents empty block\n",
        "start = [1, 1, 1, 0, -1, -1, -1]"
      ],
      "metadata": {
        "id": "XVodECGk7Zbp"
      },
      "execution_count": 82,
      "outputs": []
    },
    {
      "cell_type": "code",
      "source": [
        "#function for defining the legal moves/operators\n",
        "def legalMoves(board):\n",
        "    moves = []\n",
        "    #pos is the current index in the array, frog is the representation \n",
        "    for pos, frog in enumerate( board ): # we loop over the state space (board) to keep track of how many iterations have occurred.\n",
        "        jumpmove = pos + (frog * 2) #hopping/ jumping\n",
        "        move = pos + (frog)  #sliding \n",
        "        if ( frog == 0 ):\n",
        "            continue\n",
        "        if (not (( jumpmove < 0 ) or ( jumpmove >= len(board)))):\n",
        "          #hop onto a vacant pad over another frog\n",
        "            if (board[jumpmove] == 0):\n",
        "                t = list(board)\n",
        "                t[pos] = 0\n",
        "                t[jumpmove] = frog\n",
        "                moves.append(t)\n",
        "        if (not ((move < 0) or ( move >= len(board)))):\n",
        "          #slide onto a vacant pad if it is next to it\n",
        "            if ( board[move] == 0):\n",
        "                t = list(board)\n",
        "                t[pos] = 0\n",
        "                t[move] = frog\n",
        "                moves.append(t)\n",
        "    return moves"
      ],
      "metadata": {
        "id": "gDzGCqo-DIXj"
      },
      "execution_count": 83,
      "outputs": []
    },
    {
      "cell_type": "code",
      "source": [
        "#function for keeping track of the positions in the state space\n",
        "def track( current, target ):\n",
        "    next = []\n",
        "    for a in current: #for the frogs in the current position\n",
        "        n = legalMoves(a[-1]) #apply legalMoves function  \n",
        "        for i in n: \n",
        "            t = list(a)\n",
        "            t.append(i) #adding the legal move position in the list \n",
        "            if ( i == target ): #if target states are acheived \n",
        "                return t #return the list\n",
        "            next.append(t)\n",
        "    return next"
      ],
      "metadata": {
        "id": "y2-ntW7wDOLU"
      },
      "execution_count": 84,
      "outputs": []
    },
    {
      "cell_type": "code",
      "source": [
        "#function for generating the result\n",
        "def solve(start):\n",
        "    temp=[[start]] #list of list with its own sequence of moves, for each sequence of moves the next legal moves are found and new sequences are added\n",
        "    flag = list(start)\n",
        "    flag.reverse() #reversing the list objects\n",
        "    while(temp[-1] != flag): \n",
        "        temp = track(temp, flag)\n",
        "    return temp"
      ],
      "metadata": {
        "id": "eXZXFn8VDpcB"
      },
      "execution_count": 85,
      "outputs": []
    },
    {
      "cell_type": "code",
      "source": [
        "x = solve([1, 1, 1, 0, -1, -1, -1])\n",
        "print(x)"
      ],
      "metadata": {
        "colab": {
          "base_uri": "https://localhost:8080/"
        },
        "id": "sUopJwN0DuY0",
        "outputId": "7414bf2c-bb4f-4c7c-eac1-75fb4fb9fa23"
      },
      "execution_count": 92,
      "outputs": [
        {
          "output_type": "stream",
          "name": "stdout",
          "text": [
            "[[1, 1, 1, 0, -1, -1, -1], [1, 1, 0, 1, -1, -1, -1], [1, 1, -1, 1, 0, -1, -1], [1, 1, -1, 1, -1, 0, -1], [1, 1, -1, 0, -1, 1, -1], [1, 0, -1, 1, -1, 1, -1], [0, 1, -1, 1, -1, 1, -1], [-1, 1, 0, 1, -1, 1, -1], [-1, 1, -1, 1, 0, 1, -1], [-1, 1, -1, 1, -1, 1, 0], [-1, 1, -1, 1, -1, 0, 1], [-1, 1, -1, 0, -1, 1, 1], [-1, 0, -1, 1, -1, 1, 1], [-1, -1, 0, 1, -1, 1, 1], [-1, -1, -1, 1, 0, 1, 1], [-1, -1, -1, 0, 1, 1, 1]]\n"
          ]
        }
      ]
    },
    {
      "cell_type": "code",
      "source": [
        ""
      ],
      "metadata": {
        "id": "B-h5RAjrpQeH"
      },
      "execution_count": null,
      "outputs": []
    }
  ]
}